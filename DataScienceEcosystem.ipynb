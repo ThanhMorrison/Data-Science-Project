{
 "cells": [
  {
   "cell_type": "markdown",
   "id": "65eb1f7b",
   "metadata": {},
   "source": [
    "# Data Science Tools and Ecosystem"
   ]
  },
  {
   "cell_type": "markdown",
   "id": "4302bf1e",
   "metadata": {},
   "source": [
    "In this notebook, Data Science Tools and Ecosystem are summarized."
   ]
  },
  {
   "cell_type": "markdown",
   "id": "21169678",
   "metadata": {},
   "source": [
    "**Objectives:**"
   ]
  },
  {
   "cell_type": "markdown",
   "id": "14d92df1",
   "metadata": {},
   "source": [
    "- List popular languages for Data Science\n",
    "- Commonly used libraries used by Data Scientists\n",
    "- Data Science tools\n",
    "- How to use Jupyter Notebook\n",
    "- Use Github to share your code"
   ]
  },
  {
   "cell_type": "markdown",
   "id": "f293b774",
   "metadata": {},
   "source": [
    "Some of the popular languages that Data Scientists use are:\n",
    "  "
   ]
  },
  {
   "cell_type": "markdown",
   "id": "25254dc4",
   "metadata": {},
   "source": [
    "  1. Python\n",
    "  2. R\n",
    "  3. SQL"
   ]
  },
  {
   "cell_type": "markdown",
   "id": "608aa6e9",
   "metadata": {},
   "source": [
    "Some of the commonly used libraries used by Data Scientists include:"
   ]
  },
  {
   "cell_type": "markdown",
   "id": "5bb8fd86",
   "metadata": {},
   "source": [
    "1. Pandas\n",
    "2. NumPy\n",
    "3. Matplotlib\n",
    "4. SciPy\n",
    "5. Scikit-learn\n",
    "6. TensorFlow"
   ]
  },
  {
   "cell_type": "markdown",
   "id": "e442444d",
   "metadata": {},
   "source": [
    "|Data Science Tools|\n",
    "|------------------|\n",
    "|Libraries & Web frameworks|\n",
    "|Integrated Development Environments (IDEs)|\n",
    "|Data Visualization Tools|"
   ]
  },
  {
   "cell_type": "markdown",
   "id": "f91767be",
   "metadata": {},
   "source": [
    "### Below are a few examples of evaluating arithmetic expressions in Python"
   ]
  },
  {
   "cell_type": "code",
   "execution_count": 2,
   "id": "ebd5e85c",
   "metadata": {},
   "outputs": [
    {
     "data": {
      "text/plain": [
       "17"
      ]
     },
     "execution_count": 2,
     "metadata": {},
     "output_type": "execute_result"
    }
   ],
   "source": [
    "#This a simple arithmetic expression to mutiply then add integers\n",
    "(3*4)+5"
   ]
  },
  {
   "cell_type": "code",
   "execution_count": 3,
   "id": "44cfa3db",
   "metadata": {},
   "outputs": [
    {
     "data": {
      "text/plain": [
       "3.3333333333333335"
      ]
     },
     "execution_count": 3,
     "metadata": {},
     "output_type": "execute_result"
    }
   ],
   "source": [
    "#This will convert 200 minutes to hours by diving by 60\n",
    "200/60"
   ]
  },
  {
   "cell_type": "markdown",
   "id": "5ee0192e",
   "metadata": {},
   "source": [
    "## Author\n",
    "Thanh Phan\n"
   ]
  },
  {
   "cell_type": "code",
   "execution_count": null,
   "id": "d65a81d9",
   "metadata": {},
   "outputs": [],
   "source": []
  }
 ],
 "metadata": {
  "kernelspec": {
   "display_name": "Python 3 (ipykernel)",
   "language": "python",
   "name": "python3"
  },
  "language_info": {
   "codemirror_mode": {
    "name": "ipython",
    "version": 3
   },
   "file_extension": ".py",
   "mimetype": "text/x-python",
   "name": "python",
   "nbconvert_exporter": "python",
   "pygments_lexer": "ipython3",
   "version": "3.10.9"
  }
 },
 "nbformat": 4,
 "nbformat_minor": 5
}
